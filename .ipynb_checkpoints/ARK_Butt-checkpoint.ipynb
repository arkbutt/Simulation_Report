{
 "cells": [
  {
   "cell_type": "markdown",
   "metadata": {},
   "source": [
    "## Importing libraries"
   ]
  },
  {
   "cell_type": "code",
   "execution_count": 1,
   "metadata": {},
   "outputs": [],
   "source": [
    "import pandas as pd\n",
    "import numpy as np\n",
    "from scipy.integrate import odeint\n",
    "import matplotlib.pyplot as plt\n",
    "from sorted_months_weekdays import *\n",
    "\n",
    "from sort_dataframeby_monthorweek import *"
   ]
  },
  {
   "cell_type": "code",
   "execution_count": 20,
   "metadata": {},
   "outputs": [
    {
     "data": {
      "text/html": [
       "        <script type=\"text/javascript\">\n",
       "        window.PlotlyConfig = {MathJaxConfig: 'local'};\n",
       "        if (window.MathJax) {MathJax.Hub.Config({SVG: {font: \"STIX-Web\"}});}\n",
       "        if (typeof require !== 'undefined') {\n",
       "        require.undef(\"plotly\");\n",
       "        requirejs.config({\n",
       "            paths: {\n",
       "                'plotly': ['https://cdn.plot.ly/plotly-latest.min']\n",
       "            }\n",
       "        });\n",
       "        require(['plotly'], function(Plotly) {\n",
       "            window._Plotly = Plotly;\n",
       "        });\n",
       "        }\n",
       "        </script>\n",
       "        "
      ]
     },
     "metadata": {},
     "output_type": "display_data"
    }
   ],
   "source": [
    "import plotly.io as pio\n",
    "\n",
    "import cufflinks as cf\n",
    "import plotly.offline\n",
    "import plotly.graph_objs as go\n",
    "import plotly.plotly as py\n",
    "\n",
    "cf.go_offline()\n",
    "cf.set_config_file(offline=False, world_readable=True)"
   ]
  },
  {
   "cell_type": "markdown",
   "metadata": {},
   "source": [
    "## Load Data"
   ]
  },
  {
   "cell_type": "code",
   "execution_count": 21,
   "metadata": {},
   "outputs": [],
   "source": [
    "# df1 = pd.read_csv('/home/ark/Desktop/ZSimmulation/CodingAssignment/countries-aggregated.csv',index_col=[1])\n",
    "\n",
    "#df2 = df1.filter(like='US',axis=0).filter(items=['Confirmed','Recovered','Deaths'])\n",
    "#numpy.diff(df2.values,axis=0)"
   ]
  },
  {
   "cell_type": "code",
   "execution_count": 61,
   "metadata": {},
   "outputs": [],
   "source": [
    "df1 = pd.read_csv('italy.csv', sep=',')"
   ]
  },
  {
   "cell_type": "code",
   "execution_count": 62,
   "metadata": {},
   "outputs": [],
   "source": [
    "df1= df1.drop([0, 1])\n",
    "df1 = df1.reset_index()\n",
    "df1 = df1.drop(columns=['index'])\n",
    "df1.columns = df1.iloc[0]\n",
    "# df1.to_csv('italy.csv', sep=',', encoding='utf-8')"
   ]
  },
  {
   "cell_type": "code",
   "execution_count": 63,
   "metadata": {},
   "outputs": [
    {
     "data": {
      "text/html": [
       "<div>\n",
       "<style scoped>\n",
       "    .dataframe tbody tr th:only-of-type {\n",
       "        vertical-align: middle;\n",
       "    }\n",
       "\n",
       "    .dataframe tbody tr th {\n",
       "        vertical-align: top;\n",
       "    }\n",
       "\n",
       "    .dataframe thead th {\n",
       "        text-align: right;\n",
       "    }\n",
       "</style>\n",
       "<table border=\"1\" class=\"dataframe\">\n",
       "  <thead>\n",
       "    <tr style=\"text-align: right;\">\n",
       "      <th></th>\n",
       "      <th>Date</th>\n",
       "      <th>Confirmed</th>\n",
       "      <th>Recovered</th>\n",
       "      <th>Deaths</th>\n",
       "      <th>Susceptible</th>\n",
       "      <th>exposed</th>\n",
       "      <th>infected</th>\n",
       "      <th>recovered</th>\n",
       "      <th>Flight Percentage</th>\n",
       "      <th>Flights /Month</th>\n",
       "      <th>Incoming</th>\n",
       "      <th>Outgoing</th>\n",
       "    </tr>\n",
       "  </thead>\n",
       "  <tbody>\n",
       "    <tr>\n",
       "      <th>0</th>\n",
       "      <td>Date</td>\n",
       "      <td>Confirmed</td>\n",
       "      <td>Recovered</td>\n",
       "      <td>Deaths</td>\n",
       "      <td>Susceptible</td>\n",
       "      <td>exposed</td>\n",
       "      <td>infected</td>\n",
       "      <td>recovered</td>\n",
       "      <td>Flight Percentage</td>\n",
       "      <td>Flights /Month</td>\n",
       "      <td>Incoming</td>\n",
       "      <td>Outgoing</td>\n",
       "    </tr>\n",
       "    <tr>\n",
       "      <th>1</th>\n",
       "      <td>January</td>\n",
       "      <td>2</td>\n",
       "      <td>0</td>\n",
       "      <td>0</td>\n",
       "      <td>60461824</td>\n",
       "      <td>60</td>\n",
       "      <td>2</td>\n",
       "      <td>0</td>\n",
       "      <td>-3.30%</td>\n",
       "      <td>26718.63548</td>\n",
       "      <td>14962.4358688</td>\n",
       "      <td>11756.1996112</td>\n",
       "    </tr>\n",
       "    <tr>\n",
       "      <th>2</th>\n",
       "      <td>February</td>\n",
       "      <td>1128</td>\n",
       "      <td>46</td>\n",
       "      <td>29</td>\n",
       "      <td>60460669</td>\n",
       "      <td>33840</td>\n",
       "      <td>1128</td>\n",
       "      <td>46</td>\n",
       "      <td>-4.20%</td>\n",
       "      <td>26469.96152</td>\n",
       "      <td>14823.1784512</td>\n",
       "      <td>11646.7830688</td>\n",
       "    </tr>\n",
       "    <tr>\n",
       "      <th>3</th>\n",
       "      <td>March</td>\n",
       "      <td>105792</td>\n",
       "      <td>15729</td>\n",
       "      <td>12428</td>\n",
       "      <td>60343606</td>\n",
       "      <td>3173760</td>\n",
       "      <td>105792</td>\n",
       "      <td>15729</td>\n",
       "      <td>-56.30%</td>\n",
       "      <td>12074.50228</td>\n",
       "      <td>6761.7212768</td>\n",
       "      <td>5312.7810032</td>\n",
       "    </tr>\n",
       "    <tr>\n",
       "      <th>4</th>\n",
       "      <td>April</td>\n",
       "      <td>205463</td>\n",
       "      <td>75945</td>\n",
       "      <td>27967</td>\n",
       "      <td>60228396</td>\n",
       "      <td>6163890</td>\n",
       "      <td>205463</td>\n",
       "      <td>75945</td>\n",
       "      <td>-85.65%</td>\n",
       "      <td>3964.96814</td>\n",
       "      <td>2220.3821584</td>\n",
       "      <td>1744.5859816</td>\n",
       "    </tr>\n",
       "    <tr>\n",
       "      <th>5</th>\n",
       "      <td>May</td>\n",
       "      <td>232997</td>\n",
       "      <td>157507</td>\n",
       "      <td>33415</td>\n",
       "      <td>60195414</td>\n",
       "      <td>6989910</td>\n",
       "      <td>232997</td>\n",
       "      <td>157507</td>\n",
       "      <td>-83.25%</td>\n",
       "      <td>4628.0987</td>\n",
       "      <td>2591.735272</td>\n",
       "      <td>2036.363428</td>\n",
       "    </tr>\n",
       "    <tr>\n",
       "      <th>6</th>\n",
       "      <td>June</td>\n",
       "      <td>240578</td>\n",
       "      <td>190248</td>\n",
       "      <td>34767</td>\n",
       "      <td>60186481</td>\n",
       "      <td>7217340</td>\n",
       "      <td>240578</td>\n",
       "      <td>190248</td>\n",
       "      <td>-84.90%</td>\n",
       "      <td>4172.19644</td>\n",
       "      <td>2336.4300064</td>\n",
       "      <td>1835.7664336</td>\n",
       "    </tr>\n",
       "    <tr>\n",
       "      <th>7</th>\n",
       "      <td>July</td>\n",
       "      <td>247537</td>\n",
       "      <td>199974</td>\n",
       "      <td>35141</td>\n",
       "      <td>60179148</td>\n",
       "      <td>7426110</td>\n",
       "      <td>247537</td>\n",
       "      <td>199974</td>\n",
       "      <td>-63.03%</td>\n",
       "      <td>10216.35519</td>\n",
       "      <td>5721.1589064</td>\n",
       "      <td>4495.1962836</td>\n",
       "    </tr>\n",
       "    <tr>\n",
       "      <th>8</th>\n",
       "      <td>August</td>\n",
       "      <td>252235</td>\n",
       "      <td>202923</td>\n",
       "      <td>35231</td>\n",
       "      <td>60174360</td>\n",
       "      <td>7567050</td>\n",
       "      <td>252235</td>\n",
       "      <td>202923</td>\n",
       "      <td>-50.20%</td>\n",
       "      <td>13759.95912</td>\n",
       "      <td>7705.5771072</td>\n",
       "      <td>6054.3820128</td>\n",
       "    </tr>\n",
       "  </tbody>\n",
       "</table>\n",
       "</div>"
      ],
      "text/plain": [
       "0      Date  Confirmed  Recovered  Deaths  Susceptible  exposed  infected  \\\n",
       "0      Date  Confirmed  Recovered  Deaths  Susceptible  exposed  infected   \n",
       "1   January          2          0       0     60461824       60         2   \n",
       "2  February       1128         46      29     60460669    33840      1128   \n",
       "3     March     105792      15729   12428     60343606  3173760    105792   \n",
       "4     April     205463      75945   27967     60228396  6163890    205463   \n",
       "5       May     232997     157507   33415     60195414  6989910    232997   \n",
       "6      June     240578     190248   34767     60186481  7217340    240578   \n",
       "7      July     247537     199974   35141     60179148  7426110    247537   \n",
       "8    August     252235     202923   35231     60174360  7567050    252235   \n",
       "\n",
       "0  recovered  Flight Percentage  Flights /Month       Incoming       Outgoing  \n",
       "0  recovered  Flight Percentage  Flights /Month       Incoming       Outgoing  \n",
       "1          0             -3.30%     26718.63548  14962.4358688  11756.1996112  \n",
       "2         46             -4.20%     26469.96152  14823.1784512  11646.7830688  \n",
       "3      15729            -56.30%     12074.50228   6761.7212768   5312.7810032  \n",
       "4      75945            -85.65%      3964.96814   2220.3821584   1744.5859816  \n",
       "5     157507            -83.25%       4628.0987    2591.735272    2036.363428  \n",
       "6     190248            -84.90%      4172.19644   2336.4300064   1835.7664336  \n",
       "7     199974            -63.03%     10216.35519   5721.1589064   4495.1962836  \n",
       "8     202923            -50.20%     13759.95912   7705.5771072   6054.3820128  "
      ]
     },
     "execution_count": 63,
     "metadata": {},
     "output_type": "execute_result"
    }
   ],
   "source": [
    "df1"
   ]
  },
  {
   "cell_type": "code",
   "execution_count": 64,
   "metadata": {},
   "outputs": [],
   "source": [
    "# df1 = df1.drop(columns=['Unnamed: 0'])\n",
    "df1= df1.drop([0])"
   ]
  },
  {
   "cell_type": "code",
   "execution_count": 65,
   "metadata": {},
   "outputs": [],
   "source": [
    "# df1= df1.drop([0])"
   ]
  },
  {
   "cell_type": "code",
   "execution_count": 66,
   "metadata": {},
   "outputs": [],
   "source": [
    "df1.Susceptible = df1.Susceptible.astype('float')\n",
    "df1.Confirmed = df1.Confirmed.astype('float')\n",
    "df1.Recovered = df1.Recovered.astype('float')\n",
    "df1.Deaths = df1.Deaths.astype('float')\n",
    "df1.exposed = df1.exposed.astype('float')\n",
    "df1.infected = df1.infected.astype('float')\n",
    "df1.recovered = df1.recovered.astype('float')\n",
    "df1.Incoming = df1.Incoming.astype('float')\n",
    "df1.Outgoing = df1.Outgoing.astype('float')"
   ]
  },
  {
   "cell_type": "code",
   "execution_count": 67,
   "metadata": {},
   "outputs": [],
   "source": [
    "df1.exposed = df1.exposed/df1.exposed.min()"
   ]
  },
  {
   "cell_type": "code",
   "execution_count": 68,
   "metadata": {},
   "outputs": [],
   "source": [
    "months = [\"January\", \"February\", \"March\", \"April\", \"May\", \"June\", \"July\", \"August\"]\n",
    "df1['Date'] = pd.Categorical(df1['Date'], categories=months, ordered=True)"
   ]
  },
  {
   "cell_type": "code",
   "execution_count": 69,
   "metadata": {},
   "outputs": [],
   "source": [
    "df1[\"New_Infected\"] = [2,1126,104664,99671,27534,7581,6959,4698]"
   ]
  },
  {
   "cell_type": "code",
   "execution_count": 70,
   "metadata": {},
   "outputs": [
    {
     "data": {
      "text/html": [
       "<div>\n",
       "<style scoped>\n",
       "    .dataframe tbody tr th:only-of-type {\n",
       "        vertical-align: middle;\n",
       "    }\n",
       "\n",
       "    .dataframe tbody tr th {\n",
       "        vertical-align: top;\n",
       "    }\n",
       "\n",
       "    .dataframe thead th {\n",
       "        text-align: right;\n",
       "    }\n",
       "</style>\n",
       "<table border=\"1\" class=\"dataframe\">\n",
       "  <thead>\n",
       "    <tr style=\"text-align: right;\">\n",
       "      <th></th>\n",
       "      <th>Date</th>\n",
       "      <th>Confirmed</th>\n",
       "      <th>Recovered</th>\n",
       "      <th>Deaths</th>\n",
       "      <th>Susceptible</th>\n",
       "      <th>exposed</th>\n",
       "      <th>infected</th>\n",
       "      <th>recovered</th>\n",
       "      <th>Flight Percentage</th>\n",
       "      <th>Flights /Month</th>\n",
       "      <th>Incoming</th>\n",
       "      <th>Outgoing</th>\n",
       "      <th>New_Infected</th>\n",
       "    </tr>\n",
       "  </thead>\n",
       "  <tbody>\n",
       "    <tr>\n",
       "      <th>1</th>\n",
       "      <td>January</td>\n",
       "      <td>2.0</td>\n",
       "      <td>0.0</td>\n",
       "      <td>0.0</td>\n",
       "      <td>60461824.0</td>\n",
       "      <td>1.0</td>\n",
       "      <td>2.0</td>\n",
       "      <td>0.0</td>\n",
       "      <td>-3.30%</td>\n",
       "      <td>26718.63548</td>\n",
       "      <td>14962.435869</td>\n",
       "      <td>11756.199611</td>\n",
       "      <td>2</td>\n",
       "    </tr>\n",
       "    <tr>\n",
       "      <th>2</th>\n",
       "      <td>February</td>\n",
       "      <td>1128.0</td>\n",
       "      <td>46.0</td>\n",
       "      <td>29.0</td>\n",
       "      <td>60460669.0</td>\n",
       "      <td>564.0</td>\n",
       "      <td>1128.0</td>\n",
       "      <td>46.0</td>\n",
       "      <td>-4.20%</td>\n",
       "      <td>26469.96152</td>\n",
       "      <td>14823.178451</td>\n",
       "      <td>11646.783069</td>\n",
       "      <td>1126</td>\n",
       "    </tr>\n",
       "    <tr>\n",
       "      <th>3</th>\n",
       "      <td>March</td>\n",
       "      <td>105792.0</td>\n",
       "      <td>15729.0</td>\n",
       "      <td>12428.0</td>\n",
       "      <td>60343606.0</td>\n",
       "      <td>52896.0</td>\n",
       "      <td>105792.0</td>\n",
       "      <td>15729.0</td>\n",
       "      <td>-56.30%</td>\n",
       "      <td>12074.50228</td>\n",
       "      <td>6761.721277</td>\n",
       "      <td>5312.781003</td>\n",
       "      <td>104664</td>\n",
       "    </tr>\n",
       "    <tr>\n",
       "      <th>4</th>\n",
       "      <td>April</td>\n",
       "      <td>205463.0</td>\n",
       "      <td>75945.0</td>\n",
       "      <td>27967.0</td>\n",
       "      <td>60228396.0</td>\n",
       "      <td>102731.5</td>\n",
       "      <td>205463.0</td>\n",
       "      <td>75945.0</td>\n",
       "      <td>-85.65%</td>\n",
       "      <td>3964.96814</td>\n",
       "      <td>2220.382158</td>\n",
       "      <td>1744.585982</td>\n",
       "      <td>99671</td>\n",
       "    </tr>\n",
       "    <tr>\n",
       "      <th>5</th>\n",
       "      <td>May</td>\n",
       "      <td>232997.0</td>\n",
       "      <td>157507.0</td>\n",
       "      <td>33415.0</td>\n",
       "      <td>60195414.0</td>\n",
       "      <td>116498.5</td>\n",
       "      <td>232997.0</td>\n",
       "      <td>157507.0</td>\n",
       "      <td>-83.25%</td>\n",
       "      <td>4628.0987</td>\n",
       "      <td>2591.735272</td>\n",
       "      <td>2036.363428</td>\n",
       "      <td>27534</td>\n",
       "    </tr>\n",
       "    <tr>\n",
       "      <th>6</th>\n",
       "      <td>June</td>\n",
       "      <td>240578.0</td>\n",
       "      <td>190248.0</td>\n",
       "      <td>34767.0</td>\n",
       "      <td>60186481.0</td>\n",
       "      <td>120289.0</td>\n",
       "      <td>240578.0</td>\n",
       "      <td>190248.0</td>\n",
       "      <td>-84.90%</td>\n",
       "      <td>4172.19644</td>\n",
       "      <td>2336.430006</td>\n",
       "      <td>1835.766434</td>\n",
       "      <td>7581</td>\n",
       "    </tr>\n",
       "    <tr>\n",
       "      <th>7</th>\n",
       "      <td>July</td>\n",
       "      <td>247537.0</td>\n",
       "      <td>199974.0</td>\n",
       "      <td>35141.0</td>\n",
       "      <td>60179148.0</td>\n",
       "      <td>123768.5</td>\n",
       "      <td>247537.0</td>\n",
       "      <td>199974.0</td>\n",
       "      <td>-63.03%</td>\n",
       "      <td>10216.35519</td>\n",
       "      <td>5721.158906</td>\n",
       "      <td>4495.196284</td>\n",
       "      <td>6959</td>\n",
       "    </tr>\n",
       "    <tr>\n",
       "      <th>8</th>\n",
       "      <td>August</td>\n",
       "      <td>252235.0</td>\n",
       "      <td>202923.0</td>\n",
       "      <td>35231.0</td>\n",
       "      <td>60174360.0</td>\n",
       "      <td>126117.5</td>\n",
       "      <td>252235.0</td>\n",
       "      <td>202923.0</td>\n",
       "      <td>-50.20%</td>\n",
       "      <td>13759.95912</td>\n",
       "      <td>7705.577107</td>\n",
       "      <td>6054.382013</td>\n",
       "      <td>4698</td>\n",
       "    </tr>\n",
       "  </tbody>\n",
       "</table>\n",
       "</div>"
      ],
      "text/plain": [
       "0      Date  Confirmed  Recovered   Deaths  Susceptible   exposed  infected  \\\n",
       "1   January        2.0        0.0      0.0   60461824.0       1.0       2.0   \n",
       "2  February     1128.0       46.0     29.0   60460669.0     564.0    1128.0   \n",
       "3     March   105792.0    15729.0  12428.0   60343606.0   52896.0  105792.0   \n",
       "4     April   205463.0    75945.0  27967.0   60228396.0  102731.5  205463.0   \n",
       "5       May   232997.0   157507.0  33415.0   60195414.0  116498.5  232997.0   \n",
       "6      June   240578.0   190248.0  34767.0   60186481.0  120289.0  240578.0   \n",
       "7      July   247537.0   199974.0  35141.0   60179148.0  123768.5  247537.0   \n",
       "8    August   252235.0   202923.0  35231.0   60174360.0  126117.5  252235.0   \n",
       "\n",
       "0  recovered Flight Percentage Flights /Month      Incoming      Outgoing  \\\n",
       "1        0.0            -3.30%    26718.63548  14962.435869  11756.199611   \n",
       "2       46.0            -4.20%    26469.96152  14823.178451  11646.783069   \n",
       "3    15729.0           -56.30%    12074.50228   6761.721277   5312.781003   \n",
       "4    75945.0           -85.65%     3964.96814   2220.382158   1744.585982   \n",
       "5   157507.0           -83.25%      4628.0987   2591.735272   2036.363428   \n",
       "6   190248.0           -84.90%     4172.19644   2336.430006   1835.766434   \n",
       "7   199974.0           -63.03%    10216.35519   5721.158906   4495.196284   \n",
       "8   202923.0           -50.20%    13759.95912   7705.577107   6054.382013   \n",
       "\n",
       "0  New_Infected  \n",
       "1             2  \n",
       "2          1126  \n",
       "3        104664  \n",
       "4         99671  \n",
       "5         27534  \n",
       "6          7581  \n",
       "7          6959  \n",
       "8          4698  "
      ]
     },
     "execution_count": 70,
     "metadata": {},
     "output_type": "execute_result"
    }
   ],
   "source": [
    "df1"
   ]
  },
  {
   "cell_type": "code",
   "execution_count": 78,
   "metadata": {},
   "outputs": [
    {
     "data": {
      "application/vnd.plotly.v1+json": {
       "config": {
        "linkText": "Export to plot.ly",
        "plotlyServerURL": "https://plot.ly",
        "showLink": true
       },
       "data": [
        {
         "line": {
          "color": "rgba(255, 153, 51, 1.0)",
          "dash": "solid",
          "shape": "linear",
          "width": 1.3
         },
         "mode": "lines",
         "name": "Incoming",
         "text": "",
         "type": "scatter",
         "uid": "ae9864a4-e22e-49c1-bcf8-7391fc01829f",
         "x": [
          "January",
          "February",
          "March",
          "April",
          "May",
          "June",
          "July",
          "August"
         ],
         "y": [
          14962.4358688,
          14823.1784512,
          6761.7212768,
          2220.3821584,
          2591.735272,
          2336.4300064,
          5721.1589064,
          7705.5771072
         ]
        },
        {
         "line": {
          "color": "rgba(55, 128, 191, 1.0)",
          "dash": "solid",
          "shape": "linear",
          "width": 1.3
         },
         "mode": "lines",
         "name": "Outgoing",
         "text": "",
         "type": "scatter",
         "uid": "723d3acc-7789-4b3e-b9e2-16d73ec183d3",
         "x": [
          "January",
          "February",
          "March",
          "April",
          "May",
          "June",
          "July",
          "August"
         ],
         "y": [
          11756.1996112,
          11646.7830688,
          5312.7810032,
          1744.5859816,
          2036.363428,
          1835.7664336,
          4495.1962836,
          6054.3820128
         ]
        }
       ],
       "layout": {
        "legend": {
         "bgcolor": "#F5F6F9",
         "font": {
          "color": "#4D5663"
         }
        },
        "paper_bgcolor": "#F5F6F9",
        "plot_bgcolor": "#F5F6F9",
        "title": {
         "font": {
          "color": "#4D5663"
         },
         "text": "Incoming and Outgoing Per Month"
        },
        "xaxis": {
         "gridcolor": "#E1E5ED",
         "showgrid": true,
         "tickfont": {
          "color": "#4D5663"
         },
         "title": {
          "font": {
           "color": "#4D5663"
          },
          "text": ""
         },
         "zerolinecolor": "#E1E5ED"
        },
        "yaxis": {
         "gridcolor": "#E1E5ED",
         "showgrid": true,
         "tickfont": {
          "color": "#4D5663"
         },
         "title": {
          "font": {
           "color": "#4D5663"
          },
          "text": ""
         },
         "zerolinecolor": "#E1E5ED"
        }
       }
      },
      "text/html": [
       "<div>\n",
       "        \n",
       "        \n",
       "            <div id=\"d6466ab0-3cf8-45ca-97bf-788af1809231\" class=\"plotly-graph-div\" style=\"height:525px; width:100%;\"></div>\n",
       "            <script type=\"text/javascript\">\n",
       "                require([\"plotly\"], function(Plotly) {\n",
       "                    window.PLOTLYENV=window.PLOTLYENV || {};\n",
       "                    window.PLOTLYENV.BASE_URL='https://plot.ly';\n",
       "                    \n",
       "                if (document.getElementById(\"d6466ab0-3cf8-45ca-97bf-788af1809231\")) {\n",
       "                    Plotly.newPlot(\n",
       "                        'd6466ab0-3cf8-45ca-97bf-788af1809231',\n",
       "                        [{\"line\": {\"color\": \"rgba(255, 153, 51, 1.0)\", \"dash\": \"solid\", \"shape\": \"linear\", \"width\": 1.3}, \"mode\": \"lines\", \"name\": \"Incoming\", \"text\": \"\", \"type\": \"scatter\", \"uid\": \"ae9864a4-e22e-49c1-bcf8-7391fc01829f\", \"x\": [\"January\", \"February\", \"March\", \"April\", \"May\", \"June\", \"July\", \"August\"], \"y\": [14962.4358688, 14823.1784512, 6761.7212768, 2220.3821584, 2591.735272, 2336.4300064, 5721.1589064, 7705.5771072]}, {\"line\": {\"color\": \"rgba(55, 128, 191, 1.0)\", \"dash\": \"solid\", \"shape\": \"linear\", \"width\": 1.3}, \"mode\": \"lines\", \"name\": \"Outgoing\", \"text\": \"\", \"type\": \"scatter\", \"uid\": \"723d3acc-7789-4b3e-b9e2-16d73ec183d3\", \"x\": [\"January\", \"February\", \"March\", \"April\", \"May\", \"June\", \"July\", \"August\"], \"y\": [11756.1996112, 11646.7830688, 5312.7810032, 1744.5859816, 2036.363428, 1835.7664336, 4495.1962836, 6054.3820128]}],\n",
       "                        {\"legend\": {\"bgcolor\": \"#F5F6F9\", \"font\": {\"color\": \"#4D5663\"}}, \"paper_bgcolor\": \"#F5F6F9\", \"plot_bgcolor\": \"#F5F6F9\", \"title\": {\"font\": {\"color\": \"#4D5663\"}, \"text\": \"Incoming and Outgoing Per Month\"}, \"xaxis\": {\"gridcolor\": \"#E1E5ED\", \"showgrid\": true, \"tickfont\": {\"color\": \"#4D5663\"}, \"title\": {\"font\": {\"color\": \"#4D5663\"}, \"text\": \"\"}, \"zerolinecolor\": \"#E1E5ED\"}, \"yaxis\": {\"gridcolor\": \"#E1E5ED\", \"showgrid\": true, \"tickfont\": {\"color\": \"#4D5663\"}, \"title\": {\"font\": {\"color\": \"#4D5663\"}, \"text\": \"\"}, \"zerolinecolor\": \"#E1E5ED\"}},\n",
       "                        {\"showLink\": true, \"linkText\": \"Export to plot.ly\", \"plotlyServerURL\": \"https://plot.ly\", \"responsive\": true}\n",
       "                    ).then(function(){\n",
       "                            \n",
       "var gd = document.getElementById('d6466ab0-3cf8-45ca-97bf-788af1809231');\n",
       "var x = new MutationObserver(function (mutations, observer) {{\n",
       "        var display = window.getComputedStyle(gd).display;\n",
       "        if (!display || display === 'none') {{\n",
       "            console.log([gd, 'removed!']);\n",
       "            Plotly.purge(gd);\n",
       "            observer.disconnect();\n",
       "        }}\n",
       "}});\n",
       "\n",
       "// Listen for the removal of the full notebook cells\n",
       "var notebookContainer = gd.closest('#notebook-container');\n",
       "if (notebookContainer) {{\n",
       "    x.observe(notebookContainer, {childList: true});\n",
       "}}\n",
       "\n",
       "// Listen for the clearing of the current output cell\n",
       "var outputEl = gd.closest('.output');\n",
       "if (outputEl) {{\n",
       "    x.observe(outputEl, {childList: true});\n",
       "}}\n",
       "\n",
       "                        })\n",
       "                };\n",
       "                });\n",
       "            </script>\n",
       "        </div>"
      ]
     },
     "metadata": {},
     "output_type": "display_data"
    }
   ],
   "source": [
    "df1.groupby(df1['Date'])[[\"Incoming\",\"Outgoing\"]].sum().iplot(kind='scatter',title = 'Incoming and Outgoing Per Month')"
   ]
  },
  {
   "cell_type": "code",
   "execution_count": 73,
   "metadata": {},
   "outputs": [
    {
     "data": {
      "application/vnd.plotly.v1+json": {
       "config": {
        "linkText": "Export to plot.ly",
        "plotlyServerURL": "https://plot.ly",
        "showLink": true
       },
       "data": [
        {
         "marker": {
          "color": "rgba(255, 153, 51, 0.6)",
          "line": {
           "color": "rgba(255, 153, 51, 1.0)",
           "width": 1
          }
         },
         "name": "New_Infected",
         "orientation": "v",
         "text": "",
         "type": "bar",
         "uid": "6def4c5a-a523-462b-a7bd-146ca7838254",
         "x": [
          "January",
          "February",
          "March",
          "April",
          "May",
          "June",
          "July",
          "August"
         ],
         "y": [
          2,
          1126,
          104664,
          99671,
          27534,
          7581,
          6959,
          4698
         ]
        }
       ],
       "layout": {
        "legend": {
         "bgcolor": "#F5F6F9",
         "font": {
          "color": "#4D5663"
         }
        },
        "paper_bgcolor": "#F5F6F9",
        "plot_bgcolor": "#F5F6F9",
        "title": {
         "font": {
          "color": "#4D5663"
         },
         "text": "Infected per Month"
        },
        "xaxis": {
         "gridcolor": "#E1E5ED",
         "showgrid": true,
         "tickfont": {
          "color": "#4D5663"
         },
         "title": {
          "font": {
           "color": "#4D5663"
          },
          "text": ""
         },
         "zerolinecolor": "#E1E5ED"
        },
        "yaxis": {
         "gridcolor": "#E1E5ED",
         "showgrid": true,
         "tickfont": {
          "color": "#4D5663"
         },
         "title": {
          "font": {
           "color": "#4D5663"
          },
          "text": ""
         },
         "zerolinecolor": "#E1E5ED"
        }
       }
      },
      "text/html": [
       "<div>\n",
       "        \n",
       "        \n",
       "            <div id=\"f74a9e0c-33db-40ba-918d-fee19e872a92\" class=\"plotly-graph-div\" style=\"height:525px; width:100%;\"></div>\n",
       "            <script type=\"text/javascript\">\n",
       "                require([\"plotly\"], function(Plotly) {\n",
       "                    window.PLOTLYENV=window.PLOTLYENV || {};\n",
       "                    window.PLOTLYENV.BASE_URL='https://plot.ly';\n",
       "                    \n",
       "                if (document.getElementById(\"f74a9e0c-33db-40ba-918d-fee19e872a92\")) {\n",
       "                    Plotly.newPlot(\n",
       "                        'f74a9e0c-33db-40ba-918d-fee19e872a92',\n",
       "                        [{\"marker\": {\"color\": \"rgba(255, 153, 51, 0.6)\", \"line\": {\"color\": \"rgba(255, 153, 51, 1.0)\", \"width\": 1}}, \"name\": \"New_Infected\", \"orientation\": \"v\", \"text\": \"\", \"type\": \"bar\", \"uid\": \"6def4c5a-a523-462b-a7bd-146ca7838254\", \"x\": [\"January\", \"February\", \"March\", \"April\", \"May\", \"June\", \"July\", \"August\"], \"y\": [2, 1126, 104664, 99671, 27534, 7581, 6959, 4698]}],\n",
       "                        {\"legend\": {\"bgcolor\": \"#F5F6F9\", \"font\": {\"color\": \"#4D5663\"}}, \"paper_bgcolor\": \"#F5F6F9\", \"plot_bgcolor\": \"#F5F6F9\", \"title\": {\"font\": {\"color\": \"#4D5663\"}, \"text\": \"Infected per Month\"}, \"xaxis\": {\"gridcolor\": \"#E1E5ED\", \"showgrid\": true, \"tickfont\": {\"color\": \"#4D5663\"}, \"title\": {\"font\": {\"color\": \"#4D5663\"}, \"text\": \"\"}, \"zerolinecolor\": \"#E1E5ED\"}, \"yaxis\": {\"gridcolor\": \"#E1E5ED\", \"showgrid\": true, \"tickfont\": {\"color\": \"#4D5663\"}, \"title\": {\"font\": {\"color\": \"#4D5663\"}, \"text\": \"\"}, \"zerolinecolor\": \"#E1E5ED\"}},\n",
       "                        {\"showLink\": true, \"linkText\": \"Export to plot.ly\", \"plotlyServerURL\": \"https://plot.ly\", \"responsive\": true}\n",
       "                    ).then(function(){\n",
       "                            \n",
       "var gd = document.getElementById('f74a9e0c-33db-40ba-918d-fee19e872a92');\n",
       "var x = new MutationObserver(function (mutations, observer) {{\n",
       "        var display = window.getComputedStyle(gd).display;\n",
       "        if (!display || display === 'none') {{\n",
       "            console.log([gd, 'removed!']);\n",
       "            Plotly.purge(gd);\n",
       "            observer.disconnect();\n",
       "        }}\n",
       "}});\n",
       "\n",
       "// Listen for the removal of the full notebook cells\n",
       "var notebookContainer = gd.closest('#notebook-container');\n",
       "if (notebookContainer) {{\n",
       "    x.observe(notebookContainer, {childList: true});\n",
       "}}\n",
       "\n",
       "// Listen for the clearing of the current output cell\n",
       "var outputEl = gd.closest('.output');\n",
       "if (outputEl) {{\n",
       "    x.observe(outputEl, {childList: true});\n",
       "}}\n",
       "\n",
       "                        })\n",
       "                };\n",
       "                });\n",
       "            </script>\n",
       "        </div>"
      ]
     },
     "metadata": {},
     "output_type": "display_data"
    }
   ],
   "source": [
    "df1.groupby(df1['Date'])[[\"New_Infected\"]].sum().iplot(kind='bar',title = 'Infected per Month')"
   ]
  },
  {
   "cell_type": "code",
   "execution_count": 74,
   "metadata": {},
   "outputs": [
    {
     "data": {
      "application/vnd.plotly.v1+json": {
       "config": {
        "linkText": "Export to plot.ly",
        "plotlyServerURL": "https://plot.ly",
        "showLink": true
       },
       "data": [
        {
         "line": {
          "color": "rgba(255, 153, 51, 1.0)",
          "dash": "solid",
          "shape": "linear",
          "width": 1.3
         },
         "mode": "lines",
         "name": "Susceptible",
         "text": "",
         "type": "scatter",
         "uid": "cc5ab185-4048-454e-8031-6e53a41c786d",
         "x": [
          "January",
          "February",
          "March",
          "April",
          "May",
          "June",
          "July",
          "August"
         ],
         "y": [
          60461824,
          60460669,
          60343606,
          60228396,
          60195414,
          60186481,
          60179148,
          60174360
         ]
        }
       ],
       "layout": {
        "legend": {
         "bgcolor": "#F5F6F9",
         "font": {
          "color": "#4D5663"
         }
        },
        "paper_bgcolor": "#F5F6F9",
        "plot_bgcolor": "#F5F6F9",
        "title": {
         "font": {
          "color": "#4D5663"
         },
         "text": "Susceptible Per Month"
        },
        "xaxis": {
         "gridcolor": "#E1E5ED",
         "showgrid": true,
         "tickfont": {
          "color": "#4D5663"
         },
         "title": {
          "font": {
           "color": "#4D5663"
          },
          "text": ""
         },
         "zerolinecolor": "#E1E5ED"
        },
        "yaxis": {
         "gridcolor": "#E1E5ED",
         "showgrid": true,
         "tickfont": {
          "color": "#4D5663"
         },
         "title": {
          "font": {
           "color": "#4D5663"
          },
          "text": ""
         },
         "zerolinecolor": "#E1E5ED"
        }
       }
      },
      "text/html": [
       "<div>\n",
       "        \n",
       "        \n",
       "            <div id=\"2d5225dc-655e-4770-bbf4-2b7557cce444\" class=\"plotly-graph-div\" style=\"height:525px; width:100%;\"></div>\n",
       "            <script type=\"text/javascript\">\n",
       "                require([\"plotly\"], function(Plotly) {\n",
       "                    window.PLOTLYENV=window.PLOTLYENV || {};\n",
       "                    window.PLOTLYENV.BASE_URL='https://plot.ly';\n",
       "                    \n",
       "                if (document.getElementById(\"2d5225dc-655e-4770-bbf4-2b7557cce444\")) {\n",
       "                    Plotly.newPlot(\n",
       "                        '2d5225dc-655e-4770-bbf4-2b7557cce444',\n",
       "                        [{\"line\": {\"color\": \"rgba(255, 153, 51, 1.0)\", \"dash\": \"solid\", \"shape\": \"linear\", \"width\": 1.3}, \"mode\": \"lines\", \"name\": \"Susceptible\", \"text\": \"\", \"type\": \"scatter\", \"uid\": \"cc5ab185-4048-454e-8031-6e53a41c786d\", \"x\": [\"January\", \"February\", \"March\", \"April\", \"May\", \"June\", \"July\", \"August\"], \"y\": [60461824.0, 60460669.0, 60343606.0, 60228396.0, 60195414.0, 60186481.0, 60179148.0, 60174360.0]}],\n",
       "                        {\"legend\": {\"bgcolor\": \"#F5F6F9\", \"font\": {\"color\": \"#4D5663\"}}, \"paper_bgcolor\": \"#F5F6F9\", \"plot_bgcolor\": \"#F5F6F9\", \"title\": {\"font\": {\"color\": \"#4D5663\"}, \"text\": \"Susceptible Per Month\"}, \"xaxis\": {\"gridcolor\": \"#E1E5ED\", \"showgrid\": true, \"tickfont\": {\"color\": \"#4D5663\"}, \"title\": {\"font\": {\"color\": \"#4D5663\"}, \"text\": \"\"}, \"zerolinecolor\": \"#E1E5ED\"}, \"yaxis\": {\"gridcolor\": \"#E1E5ED\", \"showgrid\": true, \"tickfont\": {\"color\": \"#4D5663\"}, \"title\": {\"font\": {\"color\": \"#4D5663\"}, \"text\": \"\"}, \"zerolinecolor\": \"#E1E5ED\"}},\n",
       "                        {\"showLink\": true, \"linkText\": \"Export to plot.ly\", \"plotlyServerURL\": \"https://plot.ly\", \"responsive\": true}\n",
       "                    ).then(function(){\n",
       "                            \n",
       "var gd = document.getElementById('2d5225dc-655e-4770-bbf4-2b7557cce444');\n",
       "var x = new MutationObserver(function (mutations, observer) {{\n",
       "        var display = window.getComputedStyle(gd).display;\n",
       "        if (!display || display === 'none') {{\n",
       "            console.log([gd, 'removed!']);\n",
       "            Plotly.purge(gd);\n",
       "            observer.disconnect();\n",
       "        }}\n",
       "}});\n",
       "\n",
       "// Listen for the removal of the full notebook cells\n",
       "var notebookContainer = gd.closest('#notebook-container');\n",
       "if (notebookContainer) {{\n",
       "    x.observe(notebookContainer, {childList: true});\n",
       "}}\n",
       "\n",
       "// Listen for the clearing of the current output cell\n",
       "var outputEl = gd.closest('.output');\n",
       "if (outputEl) {{\n",
       "    x.observe(outputEl, {childList: true});\n",
       "}}\n",
       "\n",
       "                        })\n",
       "                };\n",
       "                });\n",
       "            </script>\n",
       "        </div>"
      ]
     },
     "metadata": {},
     "output_type": "display_data"
    }
   ],
   "source": [
    "df1.groupby(df1['Date'])[[\"Susceptible\"]].sum().iplot(kind='scatter',title = 'Susceptible Per Month')"
   ]
  },
  {
   "cell_type": "code",
   "execution_count": 75,
   "metadata": {},
   "outputs": [
    {
     "data": {
      "application/vnd.plotly.v1+json": {
       "config": {
        "linkText": "Export to plot.ly",
        "plotlyServerURL": "https://plot.ly",
        "showLink": true
       },
       "data": [
        {
         "marker": {
          "color": "rgba(255, 153, 51, 0.6)",
          "line": {
           "color": "rgba(255, 153, 51, 1.0)",
           "width": 1
          }
         },
         "name": "Confirmed",
         "orientation": "v",
         "text": "",
         "type": "bar",
         "uid": "5b21bfe1-ab73-4b1f-be42-f42f0f14a53c",
         "x": [
          "January",
          "February",
          "March",
          "April",
          "May",
          "June",
          "July",
          "August"
         ],
         "y": [
          2,
          1128,
          105792,
          205463,
          232997,
          240578,
          247537,
          252235
         ]
        },
        {
         "marker": {
          "color": "rgba(55, 128, 191, 0.6)",
          "line": {
           "color": "rgba(55, 128, 191, 1.0)",
           "width": 1
          }
         },
         "name": "Recovered",
         "orientation": "v",
         "text": "",
         "type": "bar",
         "uid": "3bfec2e6-0fbb-482f-b7da-90a6288129dc",
         "x": [
          "January",
          "February",
          "March",
          "April",
          "May",
          "June",
          "July",
          "August"
         ],
         "y": [
          0,
          46,
          15729,
          75945,
          157507,
          190248,
          199974,
          202923
         ]
        },
        {
         "marker": {
          "color": "rgba(50, 171, 96, 0.6)",
          "line": {
           "color": "rgba(50, 171, 96, 1.0)",
           "width": 1
          }
         },
         "name": "Deaths",
         "orientation": "v",
         "text": "",
         "type": "bar",
         "uid": "a87a175d-08c8-47fe-a824-31a27bf7d5c7",
         "x": [
          "January",
          "February",
          "March",
          "April",
          "May",
          "June",
          "July",
          "August"
         ],
         "y": [
          0,
          29,
          12428,
          27967,
          33415,
          34767,
          35141,
          35231
         ]
        },
        {
         "marker": {
          "color": "rgba(128, 0, 128, 0.6)",
          "line": {
           "color": "rgba(128, 0, 128, 1.0)",
           "width": 1
          }
         },
         "name": "exposed",
         "orientation": "v",
         "text": "",
         "type": "bar",
         "uid": "e0d5ccb0-6029-48f4-a41d-8c299f894cdc",
         "x": [
          "January",
          "February",
          "March",
          "April",
          "May",
          "June",
          "July",
          "August"
         ],
         "y": [
          1,
          564,
          52896,
          102731.5,
          116498.5,
          120289,
          123768.5,
          126117.5
         ]
        },
        {
         "marker": {
          "color": "rgba(219, 64, 82, 0.6)",
          "line": {
           "color": "rgba(219, 64, 82, 1.0)",
           "width": 1
          }
         },
         "name": "infected",
         "orientation": "v",
         "text": "",
         "type": "bar",
         "uid": "bad13c8d-fb01-48fb-9de5-30254b619a30",
         "x": [
          "January",
          "February",
          "March",
          "April",
          "May",
          "June",
          "July",
          "August"
         ],
         "y": [
          2,
          1128,
          105792,
          205463,
          232997,
          240578,
          247537,
          252235
         ]
        }
       ],
       "layout": {
        "legend": {
         "bgcolor": "#F5F6F9",
         "font": {
          "color": "#4D5663"
         }
        },
        "paper_bgcolor": "#F5F6F9",
        "plot_bgcolor": "#F5F6F9",
        "title": {
         "font": {
          "color": "#4D5663"
         },
         "text": "Historicall Data of compartments (Italy) Per Month"
        },
        "xaxis": {
         "gridcolor": "#E1E5ED",
         "showgrid": true,
         "tickfont": {
          "color": "#4D5663"
         },
         "title": {
          "font": {
           "color": "#4D5663"
          },
          "text": ""
         },
         "zerolinecolor": "#E1E5ED"
        },
        "yaxis": {
         "gridcolor": "#E1E5ED",
         "showgrid": true,
         "tickfont": {
          "color": "#4D5663"
         },
         "title": {
          "font": {
           "color": "#4D5663"
          },
          "text": ""
         },
         "zerolinecolor": "#E1E5ED"
        }
       }
      },
      "text/html": [
       "<div>\n",
       "        \n",
       "        \n",
       "            <div id=\"700c650d-70b5-467d-bff3-bd43da6b84c7\" class=\"plotly-graph-div\" style=\"height:525px; width:100%;\"></div>\n",
       "            <script type=\"text/javascript\">\n",
       "                require([\"plotly\"], function(Plotly) {\n",
       "                    window.PLOTLYENV=window.PLOTLYENV || {};\n",
       "                    window.PLOTLYENV.BASE_URL='https://plot.ly';\n",
       "                    \n",
       "                if (document.getElementById(\"700c650d-70b5-467d-bff3-bd43da6b84c7\")) {\n",
       "                    Plotly.newPlot(\n",
       "                        '700c650d-70b5-467d-bff3-bd43da6b84c7',\n",
       "                        [{\"marker\": {\"color\": \"rgba(255, 153, 51, 0.6)\", \"line\": {\"color\": \"rgba(255, 153, 51, 1.0)\", \"width\": 1}}, \"name\": \"Confirmed\", \"orientation\": \"v\", \"text\": \"\", \"type\": \"bar\", \"uid\": \"5b21bfe1-ab73-4b1f-be42-f42f0f14a53c\", \"x\": [\"January\", \"February\", \"March\", \"April\", \"May\", \"June\", \"July\", \"August\"], \"y\": [2.0, 1128.0, 105792.0, 205463.0, 232997.0, 240578.0, 247537.0, 252235.0]}, {\"marker\": {\"color\": \"rgba(55, 128, 191, 0.6)\", \"line\": {\"color\": \"rgba(55, 128, 191, 1.0)\", \"width\": 1}}, \"name\": \"Recovered\", \"orientation\": \"v\", \"text\": \"\", \"type\": \"bar\", \"uid\": \"3bfec2e6-0fbb-482f-b7da-90a6288129dc\", \"x\": [\"January\", \"February\", \"March\", \"April\", \"May\", \"June\", \"July\", \"August\"], \"y\": [0.0, 46.0, 15729.0, 75945.0, 157507.0, 190248.0, 199974.0, 202923.0]}, {\"marker\": {\"color\": \"rgba(50, 171, 96, 0.6)\", \"line\": {\"color\": \"rgba(50, 171, 96, 1.0)\", \"width\": 1}}, \"name\": \"Deaths\", \"orientation\": \"v\", \"text\": \"\", \"type\": \"bar\", \"uid\": \"a87a175d-08c8-47fe-a824-31a27bf7d5c7\", \"x\": [\"January\", \"February\", \"March\", \"April\", \"May\", \"June\", \"July\", \"August\"], \"y\": [0.0, 29.0, 12428.0, 27967.0, 33415.0, 34767.0, 35141.0, 35231.0]}, {\"marker\": {\"color\": \"rgba(128, 0, 128, 0.6)\", \"line\": {\"color\": \"rgba(128, 0, 128, 1.0)\", \"width\": 1}}, \"name\": \"exposed\", \"orientation\": \"v\", \"text\": \"\", \"type\": \"bar\", \"uid\": \"e0d5ccb0-6029-48f4-a41d-8c299f894cdc\", \"x\": [\"January\", \"February\", \"March\", \"April\", \"May\", \"June\", \"July\", \"August\"], \"y\": [1.0, 564.0, 52896.0, 102731.5, 116498.5, 120289.0, 123768.5, 126117.5]}, {\"marker\": {\"color\": \"rgba(219, 64, 82, 0.6)\", \"line\": {\"color\": \"rgba(219, 64, 82, 1.0)\", \"width\": 1}}, \"name\": \"infected\", \"orientation\": \"v\", \"text\": \"\", \"type\": \"bar\", \"uid\": \"bad13c8d-fb01-48fb-9de5-30254b619a30\", \"x\": [\"January\", \"February\", \"March\", \"April\", \"May\", \"June\", \"July\", \"August\"], \"y\": [2.0, 1128.0, 105792.0, 205463.0, 232997.0, 240578.0, 247537.0, 252235.0]}],\n",
       "                        {\"legend\": {\"bgcolor\": \"#F5F6F9\", \"font\": {\"color\": \"#4D5663\"}}, \"paper_bgcolor\": \"#F5F6F9\", \"plot_bgcolor\": \"#F5F6F9\", \"title\": {\"font\": {\"color\": \"#4D5663\"}, \"text\": \"Historicall Data of compartments (Italy) Per Month\"}, \"xaxis\": {\"gridcolor\": \"#E1E5ED\", \"showgrid\": true, \"tickfont\": {\"color\": \"#4D5663\"}, \"title\": {\"font\": {\"color\": \"#4D5663\"}, \"text\": \"\"}, \"zerolinecolor\": \"#E1E5ED\"}, \"yaxis\": {\"gridcolor\": \"#E1E5ED\", \"showgrid\": true, \"tickfont\": {\"color\": \"#4D5663\"}, \"title\": {\"font\": {\"color\": \"#4D5663\"}, \"text\": \"\"}, \"zerolinecolor\": \"#E1E5ED\"}},\n",
       "                        {\"showLink\": true, \"linkText\": \"Export to plot.ly\", \"plotlyServerURL\": \"https://plot.ly\", \"responsive\": true}\n",
       "                    ).then(function(){\n",
       "                            \n",
       "var gd = document.getElementById('700c650d-70b5-467d-bff3-bd43da6b84c7');\n",
       "var x = new MutationObserver(function (mutations, observer) {{\n",
       "        var display = window.getComputedStyle(gd).display;\n",
       "        if (!display || display === 'none') {{\n",
       "            console.log([gd, 'removed!']);\n",
       "            Plotly.purge(gd);\n",
       "            observer.disconnect();\n",
       "        }}\n",
       "}});\n",
       "\n",
       "// Listen for the removal of the full notebook cells\n",
       "var notebookContainer = gd.closest('#notebook-container');\n",
       "if (notebookContainer) {{\n",
       "    x.observe(notebookContainer, {childList: true});\n",
       "}}\n",
       "\n",
       "// Listen for the clearing of the current output cell\n",
       "var outputEl = gd.closest('.output');\n",
       "if (outputEl) {{\n",
       "    x.observe(outputEl, {childList: true});\n",
       "}}\n",
       "\n",
       "                        })\n",
       "                };\n",
       "                });\n",
       "            </script>\n",
       "        </div>"
      ]
     },
     "metadata": {},
     "output_type": "display_data"
    }
   ],
   "source": [
    "df1.groupby(df1['Date'])[[\"Confirmed\",\"Recovered\",\"Deaths\",\"exposed\",\"infected\"]].sum().iplot(kind='bar',title = 'Historicall Data of compartments (Italy) Per Month')"
   ]
  },
  {
   "cell_type": "code",
   "execution_count": 76,
   "metadata": {},
   "outputs": [
    {
     "data": {
      "application/vnd.plotly.v1+json": {
       "config": {
        "linkText": "Export to plot.ly",
        "plotlyServerURL": "https://plot.ly",
        "showLink": true
       },
       "data": [
        {
         "line": {
          "color": "rgba(255, 153, 51, 1.0)",
          "dash": "solid",
          "shape": "linear",
          "width": 1.3
         },
         "mode": "lines",
         "name": "Confirmed",
         "text": "",
         "type": "scatter",
         "uid": "a7ce5921-1457-447c-9366-bfa03a70f6af",
         "x": [
          "January",
          "February",
          "March",
          "April",
          "May",
          "June",
          "July",
          "August"
         ],
         "y": [
          2,
          1128,
          105792,
          205463,
          232997,
          240578,
          247537,
          252235
         ]
        },
        {
         "line": {
          "color": "rgba(55, 128, 191, 1.0)",
          "dash": "solid",
          "shape": "linear",
          "width": 1.3
         },
         "mode": "lines",
         "name": "Recovered",
         "text": "",
         "type": "scatter",
         "uid": "6d42fc19-91a6-454b-9fc7-e1114b7a6f23",
         "x": [
          "January",
          "February",
          "March",
          "April",
          "May",
          "June",
          "July",
          "August"
         ],
         "y": [
          0,
          46,
          15729,
          75945,
          157507,
          190248,
          199974,
          202923
         ]
        },
        {
         "line": {
          "color": "rgba(50, 171, 96, 1.0)",
          "dash": "solid",
          "shape": "linear",
          "width": 1.3
         },
         "mode": "lines",
         "name": "Deaths",
         "text": "",
         "type": "scatter",
         "uid": "5f141cad-1ffa-432a-b37a-5eee2ccb3e63",
         "x": [
          "January",
          "February",
          "March",
          "April",
          "May",
          "June",
          "July",
          "August"
         ],
         "y": [
          0,
          29,
          12428,
          27967,
          33415,
          34767,
          35141,
          35231
         ]
        },
        {
         "line": {
          "color": "rgba(128, 0, 128, 1.0)",
          "dash": "solid",
          "shape": "linear",
          "width": 1.3
         },
         "mode": "lines",
         "name": "exposed",
         "text": "",
         "type": "scatter",
         "uid": "8697006a-a897-408d-909c-342f25c33c02",
         "x": [
          "January",
          "February",
          "March",
          "April",
          "May",
          "June",
          "July",
          "August"
         ],
         "y": [
          1,
          564,
          52896,
          102731.5,
          116498.5,
          120289,
          123768.5,
          126117.5
         ]
        },
        {
         "line": {
          "color": "rgba(219, 64, 82, 1.0)",
          "dash": "solid",
          "shape": "linear",
          "width": 1.3
         },
         "mode": "lines",
         "name": "infected",
         "text": "",
         "type": "scatter",
         "uid": "fddcaffa-e8d4-4535-b0c6-41280fbb300f",
         "x": [
          "January",
          "February",
          "March",
          "April",
          "May",
          "June",
          "July",
          "August"
         ],
         "y": [
          2,
          1128,
          105792,
          205463,
          232997,
          240578,
          247537,
          252235
         ]
        }
       ],
       "layout": {
        "legend": {
         "bgcolor": "#F5F6F9",
         "font": {
          "color": "#4D5663"
         }
        },
        "paper_bgcolor": "#F5F6F9",
        "plot_bgcolor": "#F5F6F9",
        "title": {
         "font": {
          "color": "#4D5663"
         },
         "text": "Historicall Data of compartments (Italy) by Month"
        },
        "xaxis": {
         "gridcolor": "#E1E5ED",
         "showgrid": true,
         "tickfont": {
          "color": "#4D5663"
         },
         "title": {
          "font": {
           "color": "#4D5663"
          },
          "text": ""
         },
         "zerolinecolor": "#E1E5ED"
        },
        "yaxis": {
         "gridcolor": "#E1E5ED",
         "showgrid": true,
         "tickfont": {
          "color": "#4D5663"
         },
         "title": {
          "font": {
           "color": "#4D5663"
          },
          "text": ""
         },
         "zerolinecolor": "#E1E5ED"
        }
       }
      },
      "text/html": [
       "<div>\n",
       "        \n",
       "        \n",
       "            <div id=\"9a790b77-f6ee-4e57-8ef2-108a066bb4ab\" class=\"plotly-graph-div\" style=\"height:525px; width:100%;\"></div>\n",
       "            <script type=\"text/javascript\">\n",
       "                require([\"plotly\"], function(Plotly) {\n",
       "                    window.PLOTLYENV=window.PLOTLYENV || {};\n",
       "                    window.PLOTLYENV.BASE_URL='https://plot.ly';\n",
       "                    \n",
       "                if (document.getElementById(\"9a790b77-f6ee-4e57-8ef2-108a066bb4ab\")) {\n",
       "                    Plotly.newPlot(\n",
       "                        '9a790b77-f6ee-4e57-8ef2-108a066bb4ab',\n",
       "                        [{\"line\": {\"color\": \"rgba(255, 153, 51, 1.0)\", \"dash\": \"solid\", \"shape\": \"linear\", \"width\": 1.3}, \"mode\": \"lines\", \"name\": \"Confirmed\", \"text\": \"\", \"type\": \"scatter\", \"uid\": \"a7ce5921-1457-447c-9366-bfa03a70f6af\", \"x\": [\"January\", \"February\", \"March\", \"April\", \"May\", \"June\", \"July\", \"August\"], \"y\": [2.0, 1128.0, 105792.0, 205463.0, 232997.0, 240578.0, 247537.0, 252235.0]}, {\"line\": {\"color\": \"rgba(55, 128, 191, 1.0)\", \"dash\": \"solid\", \"shape\": \"linear\", \"width\": 1.3}, \"mode\": \"lines\", \"name\": \"Recovered\", \"text\": \"\", \"type\": \"scatter\", \"uid\": \"6d42fc19-91a6-454b-9fc7-e1114b7a6f23\", \"x\": [\"January\", \"February\", \"March\", \"April\", \"May\", \"June\", \"July\", \"August\"], \"y\": [0.0, 46.0, 15729.0, 75945.0, 157507.0, 190248.0, 199974.0, 202923.0]}, {\"line\": {\"color\": \"rgba(50, 171, 96, 1.0)\", \"dash\": \"solid\", \"shape\": \"linear\", \"width\": 1.3}, \"mode\": \"lines\", \"name\": \"Deaths\", \"text\": \"\", \"type\": \"scatter\", \"uid\": \"5f141cad-1ffa-432a-b37a-5eee2ccb3e63\", \"x\": [\"January\", \"February\", \"March\", \"April\", \"May\", \"June\", \"July\", \"August\"], \"y\": [0.0, 29.0, 12428.0, 27967.0, 33415.0, 34767.0, 35141.0, 35231.0]}, {\"line\": {\"color\": \"rgba(128, 0, 128, 1.0)\", \"dash\": \"solid\", \"shape\": \"linear\", \"width\": 1.3}, \"mode\": \"lines\", \"name\": \"exposed\", \"text\": \"\", \"type\": \"scatter\", \"uid\": \"8697006a-a897-408d-909c-342f25c33c02\", \"x\": [\"January\", \"February\", \"March\", \"April\", \"May\", \"June\", \"July\", \"August\"], \"y\": [1.0, 564.0, 52896.0, 102731.5, 116498.5, 120289.0, 123768.5, 126117.5]}, {\"line\": {\"color\": \"rgba(219, 64, 82, 1.0)\", \"dash\": \"solid\", \"shape\": \"linear\", \"width\": 1.3}, \"mode\": \"lines\", \"name\": \"infected\", \"text\": \"\", \"type\": \"scatter\", \"uid\": \"fddcaffa-e8d4-4535-b0c6-41280fbb300f\", \"x\": [\"January\", \"February\", \"March\", \"April\", \"May\", \"June\", \"July\", \"August\"], \"y\": [2.0, 1128.0, 105792.0, 205463.0, 232997.0, 240578.0, 247537.0, 252235.0]}],\n",
       "                        {\"legend\": {\"bgcolor\": \"#F5F6F9\", \"font\": {\"color\": \"#4D5663\"}}, \"paper_bgcolor\": \"#F5F6F9\", \"plot_bgcolor\": \"#F5F6F9\", \"title\": {\"font\": {\"color\": \"#4D5663\"}, \"text\": \"Historicall Data of compartments (Italy) by Month\"}, \"xaxis\": {\"gridcolor\": \"#E1E5ED\", \"showgrid\": true, \"tickfont\": {\"color\": \"#4D5663\"}, \"title\": {\"font\": {\"color\": \"#4D5663\"}, \"text\": \"\"}, \"zerolinecolor\": \"#E1E5ED\"}, \"yaxis\": {\"gridcolor\": \"#E1E5ED\", \"showgrid\": true, \"tickfont\": {\"color\": \"#4D5663\"}, \"title\": {\"font\": {\"color\": \"#4D5663\"}, \"text\": \"\"}, \"zerolinecolor\": \"#E1E5ED\"}},\n",
       "                        {\"showLink\": true, \"linkText\": \"Export to plot.ly\", \"plotlyServerURL\": \"https://plot.ly\", \"responsive\": true}\n",
       "                    ).then(function(){\n",
       "                            \n",
       "var gd = document.getElementById('9a790b77-f6ee-4e57-8ef2-108a066bb4ab');\n",
       "var x = new MutationObserver(function (mutations, observer) {{\n",
       "        var display = window.getComputedStyle(gd).display;\n",
       "        if (!display || display === 'none') {{\n",
       "            console.log([gd, 'removed!']);\n",
       "            Plotly.purge(gd);\n",
       "            observer.disconnect();\n",
       "        }}\n",
       "}});\n",
       "\n",
       "// Listen for the removal of the full notebook cells\n",
       "var notebookContainer = gd.closest('#notebook-container');\n",
       "if (notebookContainer) {{\n",
       "    x.observe(notebookContainer, {childList: true});\n",
       "}}\n",
       "\n",
       "// Listen for the clearing of the current output cell\n",
       "var outputEl = gd.closest('.output');\n",
       "if (outputEl) {{\n",
       "    x.observe(outputEl, {childList: true});\n",
       "}}\n",
       "\n",
       "                        })\n",
       "                };\n",
       "                });\n",
       "            </script>\n",
       "        </div>"
      ]
     },
     "metadata": {},
     "output_type": "display_data"
    }
   ],
   "source": [
    "df1.groupby(df1['Date'])[[\"Confirmed\",\"Recovered\",\"Deaths\",\"exposed\",\"infected\"]].sum().iplot(kind='scatter',title = 'Historicall Data of compartments (Italy) by Month')"
   ]
  },
  {
   "cell_type": "markdown",
   "metadata": {},
   "source": [
    "## Parameters values"
   ]
  },
  {
   "cell_type": "code",
   "execution_count": 46,
   "metadata": {},
   "outputs": [],
   "source": [
    "# Lwi=df1.Outgoing.min()\n",
    "# Liw=df1.Incoming.min()\n",
    "# Lwc=df1.Outgoing.min()\n",
    "# Lcw=df1.Incoming.min()\n",
    "N = 11081000\n",
    "\n",
    "Lwi=df1.Outgoing.max()\n",
    "Liw=df1.Incoming.max()\n",
    "Lwc=df1.Outgoing.max()\n",
    "Lcw=df1.Incoming.max()\n",
    "CLwc=7.17226\n",
    "CLcw=8.10500\n",
    "\n",
    "\n",
    "S = df1.Susceptible.max()\n",
    "CLwc=7.172260\n",
    "CLcw=8.10500\n",
    "\n",
    "\n",
    "Di = 6.4\n",
    "De = 3.5\n",
    "\n",
    "R0 = 2.8"
   ]
  },
  {
   "cell_type": "markdown",
   "metadata": {},
   "source": [
    "## Differential equation"
   ]
  },
  {
   "cell_type": "code",
   "execution_count": 47,
   "metadata": {},
   "outputs": [],
   "source": [
    "# SEIR model differential equations.\n",
    "def SEIR(x, t):\n",
    "    S, E, I , R, u, z, v, alpha, beta, gamma, N = x\n",
    "    ds = ( u - ((S/N)*(beta*I+z))-(v*S))   #-(1-u)*beta * s * i\n",
    "    \n",
    "    de = ((S/N)*(beta*I+z))-(alpha*E)-(v*E)                                   #(1-u)*beta * s * i - alpha * e\n",
    "    \n",
    "    di = (alpha*E) - (gamma*I) - (v*I)                                                      #alpha * e - gamma * i\n",
    "    \n",
    "    dr = (gamma*I)-(v*R)                                    #gamma * i\n",
    "    \n",
    "    return [ds, de, di, dr, u, z, v, alpha, beta, gamma, N]"
   ]
  },
  {
   "cell_type": "code",
   "execution_count": 48,
   "metadata": {},
   "outputs": [],
   "source": [
    "u = (Liw+Lcw)/N\n",
    "#0.0005 \n",
    "#(Liw+Lcw)/N\n",
    "z = 0\n",
    "v= (Lwi/N) + (Lwc/N)\n",
    "alpha = 1/De\n",
    "gamma = 1/Di\n",
    "beta = R0/Di\n",
    "R0= (alpha*beta*u)/(v*(alpha+v)*(gamma+v))\n",
    "# initial number of infected and recovered individuals\n",
    "exposed_initial = 1.75\n",
    "#df1.exposed.min()\n",
    "infected_initial = 0.0\n",
    "recovered_initial = 0.0\n",
    "susceptible_initial =df1.Susceptible.max()/N \n",
    "# 5 - exposed_initial - infected_initial - recovered_initial\n",
    "#df1.Susceptible.min()"
   ]
  },
  {
   "cell_type": "code",
   "execution_count": 49,
   "metadata": {},
   "outputs": [],
   "source": [
    "S = susceptible_initial\n",
    "E = exposed_initial\n",
    "I = infected_initial\n",
    "R = recovered_initial"
   ]
  },
  {
   "cell_type": "markdown",
   "metadata": {},
   "source": [
    "## Solving the system"
   ]
  },
  {
   "cell_type": "code",
   "execution_count": 50,
   "metadata": {},
   "outputs": [
    {
     "data": {
      "image/png": "[encoded data removed]",
      "text/plain": [
       "<Figure size 2592x1296 with 1 Axes>"
      ]
     },
     "metadata": {
      "needs_background": "light"
     },
     "output_type": "display_data"
    }
   ],
   "source": [
    "t = np.linspace(0, 9.11, 150, endpoint=True)\n",
    "IC = [S, E, I , R, u, z, v, alpha, beta, gamma, N]\n",
    "soln = odeint(SEIR, IC, t)\n",
    "S, E, I, R = soln[:, 0], soln[:, 1], soln[:, 2], soln[:, 3]\n",
    "\n",
    "def plotdata(t, S, E, I, R):\n",
    "    # plot the data\n",
    "    fig = plt.figure(figsize=(36,18))\n",
    "    ax = [fig.add_subplot(221, axisbelow=True)]\n",
    "\n",
    "    ax[0].plot(t, S, lw=3, label=' Susceptible')\n",
    "    ax[0].plot(t, I, lw=3, label=' Infective')\n",
    "    ax[0].plot(t, E, lw=3, label='Exposed')\n",
    "    ax[0].plot(t, R, lw=3, label='Recovered')\n",
    "    ax[0].set_title('Susceptible ,Recovered, Infective and Exposed Populations')\n",
    "    ax[0].set_xlabel('Time /days')\n",
    "    ax[0].set_ylabel('Count')\n",
    "\n",
    "    for a in ax: \n",
    "        a.grid(True)\n",
    "        a.legend()\n",
    "    plt.savefig('Italy_'+R0+'.png')\n",
    "\n",
    "plotdata(t, S, E, I, R)"
   ]
  },
  {
   "cell_type": "code",
   "execution_count": null,
   "metadata": {},
   "outputs": [],
   "source": []
  },
  {
   "cell_type": "code",
   "execution_count": 44,
   "metadata": {},
   "outputs": [
    {
     "name": "stdout",
     "output_type": "stream",
     "text": [
      "3.489972375020764\n"
     ]
    }
   ],
   "source": [
    "print(R0)"
   ]
  }
 ],
 "metadata": {
  "kernelspec": {
   "display_name": "Python 3",
   "language": "python",
   "name": "python3"
  },
  "language_info": {
   "codemirror_mode": {
    "name": "ipython",
    "version": 2
   },
   "file_extension": ".py",
   "mimetype": "text/x-python",
   "name": "python",
   "nbconvert_exporter": "python",
   "pygments_lexer": "ipython2",
   "version": "2.7.15"
  }
 },
 "nbformat": 4,
 "nbformat_minor": 2
}
